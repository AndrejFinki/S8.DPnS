{
 "cells": [
  {
   "cell_type": "markdown",
   "id": "aea2fbbc",
   "metadata": {},
   "source": [
    "---\n",
    "# Imports"
   ]
  },
  {
   "cell_type": "code",
   "execution_count": null,
   "id": "3a4435d2",
   "metadata": {},
   "outputs": [],
   "source": [
    "import os, sys\n",
    "import pandas as pd\n",
    "import numpy as np\n",
    "\n",
    "from tqdm import tqdm\n",
    "\n",
    "import easyocr\n",
    "import evaluation_helper\n",
    "\n",
    "import matplotlib.pyplot as plt"
   ]
  },
  {
   "cell_type": "markdown",
   "id": "24e2475a",
   "metadata": {},
   "source": [
    "---\n",
    "# Setup"
   ]
  },
  {
   "cell_type": "code",
   "execution_count": null,
   "id": "a100a4cf",
   "metadata": {},
   "outputs": [],
   "source": [
    "DATA_PATH = os.path.join('..', 'data')\n",
    "IMAGES_PATH = os.path.join(DATA_PATH, 'train_val_images', 'train_images')\n",
    "\n",
    "assert os.path.exists(DATA_PATH), f\"Data path {DATA_PATH} does not exist. Please create it and add the data files.\"\n",
    "assert os.path.exists(IMAGES_PATH), f\"Images path {IMAGES_PATH} does not exist. Please create it and add the image files.\""
   ]
  },
  {
   "cell_type": "markdown",
   "id": "75fb1f74",
   "metadata": {},
   "source": [
    "---\n",
    "# Data Import"
   ]
  },
  {
   "cell_type": "code",
   "execution_count": null,
   "id": "0c133e90",
   "metadata": {},
   "outputs": [],
   "source": [
    "annotation_df = pd.read_csv(os.path.join(DATA_PATH, 'cleaned_annot.csv'))"
   ]
  },
  {
   "cell_type": "code",
   "execution_count": null,
   "id": "b9cd1fe6",
   "metadata": {},
   "outputs": [],
   "source": [
    "images_df = pd.read_csv(os.path.join(DATA_PATH, 'img.csv'))\n",
    "images_df.drop(columns=['Unnamed: 0'], inplace=True)"
   ]
  },
  {
   "cell_type": "code",
   "execution_count": null,
   "id": "67340085",
   "metadata": {},
   "outputs": [],
   "source": [
    "images = images_df['id'].to_list()"
   ]
  },
  {
   "cell_type": "markdown",
   "id": "c6f94ece",
   "metadata": {},
   "source": [
    "---\n",
    "# EasyOCR Evaluation"
   ]
  },
  {
   "cell_type": "code",
   "execution_count": null,
   "id": "092fa50b",
   "metadata": {},
   "outputs": [],
   "source": [
    "reader = easyocr.Reader(['en'])"
   ]
  },
  {
   "cell_type": "code",
   "execution_count": null,
   "id": "d46c056f",
   "metadata": {},
   "outputs": [],
   "source": [
    "correct, total_words = 0, 0\n",
    "\n",
    "for image in tqdm(images):\n",
    "    image_name = image + '.jpg'\n",
    "    image_path = os.path.join(IMAGES_PATH, image_name)\n",
    "    \n",
    "    if not os.path.exists(image_path):\n",
    "        print(f\"Image {image} does not exist. Skipping.\")\n",
    "        continue\n",
    "\n",
    "    extracted_words = evaluation_helper.extract_words(reader, image_path)\n",
    "    expected_words = annotation_df[annotation_df['image_id'] == image]['utf8_string'].to_list()\n",
    "    \n",
    "    total_words += len(expected_words)\n",
    "    \n",
    "    for word in extracted_words:\n",
    "        if word in expected_words:\n",
    "            correct += 1\n",
    "            expected_words.remove(word)\n",
    "\n",
    "incorrect = total_words - correct"
   ]
  },
  {
   "cell_type": "code",
   "execution_count": null,
   "id": "b362d750",
   "metadata": {},
   "outputs": [],
   "source": [
    "print(f\"Correct: {correct}, Incorrect: {incorrect}\")\n",
    "print(f\"Accuracy: {correct / total_words:.2%}\")"
   ]
  }
 ],
 "metadata": {
  "kernelspec": {
   "display_name": ".venv",
   "language": "python",
   "name": "python3"
  },
  "language_info": {
   "codemirror_mode": {
    "name": "ipython",
    "version": 3
   },
   "file_extension": ".py",
   "mimetype": "text/x-python",
   "name": "python",
   "nbconvert_exporter": "python",
   "pygments_lexer": "ipython3",
   "version": "3.10.9"
  }
 },
 "nbformat": 4,
 "nbformat_minor": 5
}
