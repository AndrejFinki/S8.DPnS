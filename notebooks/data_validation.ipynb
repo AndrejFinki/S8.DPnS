{
 "cells": [
  {
   "cell_type": "markdown",
   "id": "1c72e65a",
   "metadata": {
    "vscode": {
     "languageId": "plaintext"
    }
   },
   "source": [
    "---\n",
    "# Imports"
   ]
  },
  {
   "cell_type": "code",
   "execution_count": 1,
   "id": "8b556df9",
   "metadata": {},
   "outputs": [],
   "source": [
    "import os, sys\n",
    "import pandas as pd\n",
    "import numpy as np\n",
    "\n",
    "from tqdm import tqdm"
   ]
  },
  {
   "cell_type": "markdown",
   "id": "9772c215",
   "metadata": {},
   "source": [
    "---\n",
    "# Setup"
   ]
  },
  {
   "cell_type": "code",
   "execution_count": 2,
   "id": "ade9e38b",
   "metadata": {},
   "outputs": [],
   "source": [
    "DATA_PATH = os.path.join('..', 'data')\n",
    "IMAGES_PATH = os.path.join(DATA_PATH, 'train_val_images', 'train_images')\n",
    "\n",
    "assert os.path.exists(DATA_PATH), f\"Data path {DATA_PATH} does not exist. Please create it and add the data files.\"\n",
    "assert os.path.exists(IMAGES_PATH), f\"Images path {IMAGES_PATH} does not exist. Please create it and add the image files.\""
   ]
  },
  {
   "cell_type": "markdown",
   "id": "2a11401b",
   "metadata": {
    "vscode": {
     "languageId": "plaintext"
    }
   },
   "source": [
    "---\n",
    "# Data Import"
   ]
  },
  {
   "cell_type": "code",
   "execution_count": 3,
   "id": "99c993d4",
   "metadata": {},
   "outputs": [],
   "source": [
    "img_info_df = pd.read_csv(os.path.join(DATA_PATH, 'img.csv'))\n",
    "annotations_df = pd.read_csv(os.path.join(DATA_PATH, 'annot.csv'))\n",
    "\n",
    "images = os.listdir(IMAGES_PATH)"
   ]
  },
  {
   "cell_type": "code",
   "execution_count": 4,
   "id": "c2efee62",
   "metadata": {},
   "outputs": [],
   "source": [
    "img_info_df.drop(columns=['Unnamed: 0'], inplace=True)\n",
    "annotations_df.drop(columns=['Unnamed: 0'], inplace=True)"
   ]
  },
  {
   "cell_type": "markdown",
   "id": "72458238",
   "metadata": {},
   "source": [
    "---\n",
    "# Data Validation"
   ]
  },
  {
   "cell_type": "code",
   "execution_count": 5,
   "id": "0da7fcd7",
   "metadata": {},
   "outputs": [
    {
     "data": {
      "application/vnd.microsoft.datawrangler.viewer.v0+json": {
       "columns": [
        {
         "name": "index",
         "rawType": "int64",
         "type": "integer"
        },
        {
         "name": "id",
         "rawType": "object",
         "type": "string"
        },
        {
         "name": "width",
         "rawType": "int64",
         "type": "integer"
        },
        {
         "name": "height",
         "rawType": "int64",
         "type": "integer"
        },
        {
         "name": "set",
         "rawType": "object",
         "type": "string"
        },
        {
         "name": "file_name",
         "rawType": "object",
         "type": "string"
        }
       ],
       "conversionMethod": "pd.DataFrame",
       "ref": "02a17a11-3701-4710-bb2b-0f2428fdb090",
       "rows": [
        [
         "0",
         "a4ea732cd3d5948a",
         "840",
         "1024",
         "train",
         "train/a4ea732cd3d5948a.jpg"
        ],
        [
         "1",
         "4bf43a7b2a898044",
         "1024",
         "683",
         "train",
         "train/4bf43a7b2a898044.jpg"
        ],
        [
         "2",
         "1b55b309b0f50d02",
         "1024",
         "683",
         "train",
         "train/1b55b309b0f50d02.jpg"
        ],
        [
         "3",
         "00c359f294f7dcd9",
         "1024",
         "680",
         "train",
         "train/00c359f294f7dcd9.jpg"
        ],
        [
         "4",
         "04b5a37f762b0f51",
         "768",
         "1024",
         "train",
         "train/04b5a37f762b0f51.jpg"
        ],
        [
         "5",
         "b3c4d860c380c674",
         "1024",
         "682",
         "train",
         "train/b3c4d860c380c674.jpg"
        ],
        [
         "6",
         "edecba688d135d36",
         "705",
         "1024",
         "train",
         "train/edecba688d135d36.jpg"
        ],
        [
         "7",
         "01ee1b7395e1d8c4",
         "1024",
         "575",
         "train",
         "train/01ee1b7395e1d8c4.jpg"
        ],
        [
         "8",
         "344193868ca2f738",
         "1024",
         "834",
         "train",
         "train/344193868ca2f738.jpg"
        ],
        [
         "9",
         "a183473b9b4bc8f6",
         "357",
         "1024",
         "train",
         "train/a183473b9b4bc8f6.jpg"
        ],
        [
         "10",
         "4e40fcde84677d90",
         "1024",
         "768",
         "train",
         "train/4e40fcde84677d90.jpg"
        ],
        [
         "11",
         "c126876b5ac73c91",
         "1024",
         "768",
         "train",
         "train/c126876b5ac73c91.jpg"
        ],
        [
         "12",
         "57ad2d3ddcde298b",
         "1024",
         "768",
         "train",
         "train/57ad2d3ddcde298b.jpg"
        ],
        [
         "13",
         "171e532e7edaf8f9",
         "819",
         "1024",
         "train",
         "train/171e532e7edaf8f9.jpg"
        ],
        [
         "14",
         "754dd4b30ec02ca5",
         "1024",
         "683",
         "train",
         "train/754dd4b30ec02ca5.jpg"
        ],
        [
         "15",
         "a0fa95532b52cf18",
         "1024",
         "768",
         "train",
         "train/a0fa95532b52cf18.jpg"
        ],
        [
         "16",
         "d3abbec0a3c582c1",
         "768",
         "1024",
         "train",
         "train/d3abbec0a3c582c1.jpg"
        ],
        [
         "17",
         "75cd66309f4183ae",
         "6000",
         "4000",
         "train",
         "train/75cd66309f4183ae.jpg"
        ],
        [
         "18",
         "6e39569903a669f5",
         "1024",
         "680",
         "train",
         "train/6e39569903a669f5.jpg"
        ],
        [
         "19",
         "c6d465f45fe01f84",
         "1024",
         "768",
         "train",
         "train/c6d465f45fe01f84.jpg"
        ],
        [
         "20",
         "f872a1953fef84a3",
         "1024",
         "1024",
         "train",
         "train/f872a1953fef84a3.jpg"
        ],
        [
         "21",
         "4974a1000a27a984",
         "768",
         "1024",
         "train",
         "train/4974a1000a27a984.jpg"
        ],
        [
         "22",
         "00ca922eb4890a3b",
         "1024",
         "680",
         "train",
         "train/00ca922eb4890a3b.jpg"
        ],
        [
         "23",
         "2a89a2256448b62e",
         "768",
         "1024",
         "train",
         "train/2a89a2256448b62e.jpg"
        ],
        [
         "24",
         "f795d4f48d364b95",
         "1024",
         "768",
         "train",
         "train/f795d4f48d364b95.jpg"
        ],
        [
         "25",
         "e81c07266ea2699d",
         "768",
         "1024",
         "train",
         "train/e81c07266ea2699d.jpg"
        ],
        [
         "26",
         "f67b40ccda2d8e79",
         "768",
         "1024",
         "train",
         "train/f67b40ccda2d8e79.jpg"
        ],
        [
         "27",
         "8b2354348560f150",
         "1024",
         "670",
         "train",
         "train/8b2354348560f150.jpg"
        ],
        [
         "28",
         "dc0e9a22751975a7",
         "1024",
         "683",
         "train",
         "train/dc0e9a22751975a7.jpg"
        ],
        [
         "29",
         "df075cc4d3859d32",
         "1024",
         "683",
         "train",
         "train/df075cc4d3859d32.jpg"
        ],
        [
         "30",
         "03d905bf4fef974b",
         "1024",
         "1024",
         "train",
         "train/03d905bf4fef974b.jpg"
        ],
        [
         "31",
         "181596df2d9a23cd",
         "768",
         "1024",
         "train",
         "train/181596df2d9a23cd.jpg"
        ],
        [
         "32",
         "f8ce42369cb217ca",
         "683",
         "1024",
         "train",
         "train/f8ce42369cb217ca.jpg"
        ],
        [
         "33",
         "39ab62bf93a384df",
         "1024",
         "681",
         "train",
         "train/39ab62bf93a384df.jpg"
        ],
        [
         "34",
         "01aa9b9a3520fc0c",
         "1024",
         "768",
         "train",
         "train/01aa9b9a3520fc0c.jpg"
        ],
        [
         "35",
         "2687bcd22dde6fa9",
         "1024",
         "768",
         "train",
         "train/2687bcd22dde6fa9.jpg"
        ],
        [
         "36",
         "19c0685503268f0c",
         "1024",
         "681",
         "train",
         "train/19c0685503268f0c.jpg"
        ],
        [
         "37",
         "3b686fabd9152b76",
         "1024",
         "1024",
         "train",
         "train/3b686fabd9152b76.jpg"
        ],
        [
         "38",
         "635392a827aba324",
         "1024",
         "768",
         "train",
         "train/635392a827aba324.jpg"
        ],
        [
         "39",
         "2edd89774519c784",
         "1024",
         "508",
         "train",
         "train/2edd89774519c784.jpg"
        ],
        [
         "40",
         "39bd3d23a8b6a94d",
         "1024",
         "1024",
         "train",
         "train/39bd3d23a8b6a94d.jpg"
        ],
        [
         "41",
         "82a2be82feef8d50",
         "576",
         "1024",
         "train",
         "train/82a2be82feef8d50.jpg"
        ],
        [
         "42",
         "8fffa9f900e37e77",
         "1024",
         "683",
         "train",
         "train/8fffa9f900e37e77.jpg"
        ],
        [
         "43",
         "dbfa35c8fe3d506f",
         "1024",
         "1024",
         "train",
         "train/dbfa35c8fe3d506f.jpg"
        ],
        [
         "44",
         "3dccd6bac3c95422",
         "1024",
         "804",
         "train",
         "train/3dccd6bac3c95422.jpg"
        ],
        [
         "45",
         "ff01ce3a1d2a9e24",
         "1024",
         "768",
         "train",
         "train/ff01ce3a1d2a9e24.jpg"
        ],
        [
         "46",
         "bddc0a27a3469b8a",
         "1024",
         "768",
         "train",
         "train/bddc0a27a3469b8a.jpg"
        ],
        [
         "47",
         "768eef86cfc99d4e",
         "1024",
         "683",
         "train",
         "train/768eef86cfc99d4e.jpg"
        ],
        [
         "48",
         "1b4b5ff55491907d",
         "1024",
         "768",
         "train",
         "train/1b4b5ff55491907d.jpg"
        ],
        [
         "49",
         "9d3f8105a5101449",
         "1024",
         "768",
         "train",
         "train/9d3f8105a5101449.jpg"
        ]
       ],
       "shape": {
        "columns": 5,
        "rows": 21778
       }
      },
      "text/html": [
       "<div>\n",
       "<style scoped>\n",
       "    .dataframe tbody tr th:only-of-type {\n",
       "        vertical-align: middle;\n",
       "    }\n",
       "\n",
       "    .dataframe tbody tr th {\n",
       "        vertical-align: top;\n",
       "    }\n",
       "\n",
       "    .dataframe thead th {\n",
       "        text-align: right;\n",
       "    }\n",
       "</style>\n",
       "<table border=\"1\" class=\"dataframe\">\n",
       "  <thead>\n",
       "    <tr style=\"text-align: right;\">\n",
       "      <th></th>\n",
       "      <th>id</th>\n",
       "      <th>width</th>\n",
       "      <th>height</th>\n",
       "      <th>set</th>\n",
       "      <th>file_name</th>\n",
       "    </tr>\n",
       "  </thead>\n",
       "  <tbody>\n",
       "    <tr>\n",
       "      <th>0</th>\n",
       "      <td>a4ea732cd3d5948a</td>\n",
       "      <td>840</td>\n",
       "      <td>1024</td>\n",
       "      <td>train</td>\n",
       "      <td>train/a4ea732cd3d5948a.jpg</td>\n",
       "    </tr>\n",
       "    <tr>\n",
       "      <th>1</th>\n",
       "      <td>4bf43a7b2a898044</td>\n",
       "      <td>1024</td>\n",
       "      <td>683</td>\n",
       "      <td>train</td>\n",
       "      <td>train/4bf43a7b2a898044.jpg</td>\n",
       "    </tr>\n",
       "    <tr>\n",
       "      <th>2</th>\n",
       "      <td>1b55b309b0f50d02</td>\n",
       "      <td>1024</td>\n",
       "      <td>683</td>\n",
       "      <td>train</td>\n",
       "      <td>train/1b55b309b0f50d02.jpg</td>\n",
       "    </tr>\n",
       "    <tr>\n",
       "      <th>3</th>\n",
       "      <td>00c359f294f7dcd9</td>\n",
       "      <td>1024</td>\n",
       "      <td>680</td>\n",
       "      <td>train</td>\n",
       "      <td>train/00c359f294f7dcd9.jpg</td>\n",
       "    </tr>\n",
       "    <tr>\n",
       "      <th>4</th>\n",
       "      <td>04b5a37f762b0f51</td>\n",
       "      <td>768</td>\n",
       "      <td>1024</td>\n",
       "      <td>train</td>\n",
       "      <td>train/04b5a37f762b0f51.jpg</td>\n",
       "    </tr>\n",
       "    <tr>\n",
       "      <th>...</th>\n",
       "      <td>...</td>\n",
       "      <td>...</td>\n",
       "      <td>...</td>\n",
       "      <td>...</td>\n",
       "      <td>...</td>\n",
       "    </tr>\n",
       "    <tr>\n",
       "      <th>21773</th>\n",
       "      <td>d13b7ec72bd5eed5</td>\n",
       "      <td>1024</td>\n",
       "      <td>683</td>\n",
       "      <td>train</td>\n",
       "      <td>train/d13b7ec72bd5eed5.jpg</td>\n",
       "    </tr>\n",
       "    <tr>\n",
       "      <th>21774</th>\n",
       "      <td>0022933cdceee189</td>\n",
       "      <td>1024</td>\n",
       "      <td>554</td>\n",
       "      <td>train</td>\n",
       "      <td>train/0022933cdceee189.jpg</td>\n",
       "    </tr>\n",
       "    <tr>\n",
       "      <th>21775</th>\n",
       "      <td>6029c75e0325d164</td>\n",
       "      <td>1024</td>\n",
       "      <td>768</td>\n",
       "      <td>train</td>\n",
       "      <td>train/6029c75e0325d164.jpg</td>\n",
       "    </tr>\n",
       "    <tr>\n",
       "      <th>21776</th>\n",
       "      <td>0ebbecdc46b78d42</td>\n",
       "      <td>1024</td>\n",
       "      <td>681</td>\n",
       "      <td>train</td>\n",
       "      <td>train/0ebbecdc46b78d42.jpg</td>\n",
       "    </tr>\n",
       "    <tr>\n",
       "      <th>21777</th>\n",
       "      <td>a37e1fb026b80a6d</td>\n",
       "      <td>1024</td>\n",
       "      <td>683</td>\n",
       "      <td>train</td>\n",
       "      <td>train/a37e1fb026b80a6d.jpg</td>\n",
       "    </tr>\n",
       "  </tbody>\n",
       "</table>\n",
       "<p>21778 rows × 5 columns</p>\n",
       "</div>"
      ],
      "text/plain": [
       "                     id  width  height    set                   file_name\n",
       "0      a4ea732cd3d5948a    840    1024  train  train/a4ea732cd3d5948a.jpg\n",
       "1      4bf43a7b2a898044   1024     683  train  train/4bf43a7b2a898044.jpg\n",
       "2      1b55b309b0f50d02   1024     683  train  train/1b55b309b0f50d02.jpg\n",
       "3      00c359f294f7dcd9   1024     680  train  train/00c359f294f7dcd9.jpg\n",
       "4      04b5a37f762b0f51    768    1024  train  train/04b5a37f762b0f51.jpg\n",
       "...                 ...    ...     ...    ...                         ...\n",
       "21773  d13b7ec72bd5eed5   1024     683  train  train/d13b7ec72bd5eed5.jpg\n",
       "21774  0022933cdceee189   1024     554  train  train/0022933cdceee189.jpg\n",
       "21775  6029c75e0325d164   1024     768  train  train/6029c75e0325d164.jpg\n",
       "21776  0ebbecdc46b78d42   1024     681  train  train/0ebbecdc46b78d42.jpg\n",
       "21777  a37e1fb026b80a6d   1024     683  train  train/a37e1fb026b80a6d.jpg\n",
       "\n",
       "[21778 rows x 5 columns]"
      ]
     },
     "execution_count": 5,
     "metadata": {},
     "output_type": "execute_result"
    }
   ],
   "source": [
    "img_info_df"
   ]
  },
  {
   "cell_type": "code",
   "execution_count": 6,
   "id": "fd11d409",
   "metadata": {},
   "outputs": [
    {
     "data": {
      "text/plain": [
       "train    21778\n",
       "Name: set, dtype: int64"
      ]
     },
     "execution_count": 6,
     "metadata": {},
     "output_type": "execute_result"
    }
   ],
   "source": [
    "img_info_df['set'].value_counts()"
   ]
  },
  {
   "cell_type": "code",
   "execution_count": 7,
   "id": "8851e227",
   "metadata": {},
   "outputs": [
    {
     "data": {
      "application/vnd.microsoft.datawrangler.viewer.v0+json": {
       "columns": [
        {
         "name": "index",
         "rawType": "int64",
         "type": "integer"
        },
        {
         "name": "id",
         "rawType": "object",
         "type": "string"
        },
        {
         "name": "image_id",
         "rawType": "object",
         "type": "string"
        },
        {
         "name": "bbox",
         "rawType": "object",
         "type": "string"
        },
        {
         "name": "utf8_string",
         "rawType": "object",
         "type": "string"
        },
        {
         "name": "points",
         "rawType": "object",
         "type": "string"
        },
        {
         "name": "area",
         "rawType": "float64",
         "type": "float"
        }
       ],
       "conversionMethod": "pd.DataFrame",
       "ref": "ef26009b-0e4a-4660-bb68-ead646d9fee5",
       "rows": [
        [
         "0",
         "a4ea732cd3d5948a_1",
         "a4ea732cd3d5948a",
         "[525.83, 3.4, 197.64, 33.94]",
         "Performance",
         "[525.83, 3.4, 723.47, 7.29, 722.76, 36.99, 525.83, 37.34]",
         "6707.9"
        ],
        [
         "1",
         "a4ea732cd3d5948a_2",
         "a4ea732cd3d5948a",
         "[534.67, 64.68, 91.22, 38.19]",
         "Sport",
         "[535.73, 64.68, 623.41, 67.51, 625.89, 102.87, 534.67, 102.51]",
         "3483.69"
        ],
        [
         "2",
         "a4ea732cd3d5948a_3",
         "a4ea732cd3d5948a",
         "[626.95, 63.62, 96.52, 31.82]",
         "Watch",
         "[626.95, 63.62, 721.7, 63.62, 723.47, 95.44, 628.36, 95.44]",
         "3071.27"
        ],
        [
         "3",
         "a4ea732cd3d5948a_4",
         "a4ea732cd3d5948a",
         "[577.4, 141.87, 147.13, 43.1]",
         "...period.",
         "[580.02, 143.61, 724.53, 141.87, 723.66, 184.97, 577.4, 184.97]",
         "6341.3"
        ],
        [
         "4",
         "a4ea732cd3d5948a_5",
         "a4ea732cd3d5948a",
         "[391.03, 163.9, 60.82, 38.65]",
         ".",
         "[395.2, 163.9, 451.85, 191.94, 445.59, 202.55, 391.03, 178.87]",
         "2350.69"
        ],
        [
         "5",
         "a4ea732cd3d5948a_6",
         "a4ea732cd3d5948a",
         "[455.64, 204.45, 21.97, 24.82]",
         "400",
         "[464.54, 204.45, 477.61, 221.88, 469.85, 229.27, 455.64, 212.78]",
         "545.3"
        ],
        [
         "6",
         "a4ea732cd3d5948a_7",
         "a4ea732cd3d5948a",
         "[474.58, 234.95, 17.24, 24.25]",
         "300",
         "[484.43, 234.95, 491.82, 253.9, 482.35, 259.2, 474.58, 240.82]",
         "418.07"
        ],
        [
         "7",
         "a4ea732cd3d5948a_8",
         "a4ea732cd3d5948a",
         "[506.48, 263.69, 25.42, 41.99]",
         "15",
         "[531.9, 263.69, 531.43, 304.04, 507.18, 305.68, 506.48, 264.86]",
         "1067.39"
        ],
        [
         "8",
         "a4ea732cd3d5948a_9",
         "a4ea732cd3d5948a",
         "[346.4, 177.05, 54.56, 38.48]",
         "12",
         "[346.4, 180.79, 397.52, 177.05, 400.96, 215.53, 347.55, 215.53]",
         "2099.47"
        ],
        [
         "9",
         "a4ea732cd3d5948a_10",
         "a4ea732cd3d5948a",
         "[364.49, 163.27, 19.82, 16.08]",
         "60",
         "[364.49, 163.27, 383.73, 163.27, 384.31, 178.78, 367.08, 179.35]",
         "318.71"
        ],
        [
         "10",
         "a4ea732cd3d5948a_11",
         "a4ea732cd3d5948a",
         "[313.37, 172.46, 19.25, 19.53]",
         "65",
         "[313.37, 180.5, 328.59, 172.46, 332.62, 185.38, 319.12, 191.99]",
         "375.95"
        ],
        [
         "11",
         "a4ea732cd3d5948a_12",
         "a4ea732cd3d5948a",
         "[275.4, 199.04, 24.96, 27.52]",
         "170",
         "[275.4, 216.53, 287.53, 199.04, 300.36, 208.14, 286.37, 226.56]",
         "686.9"
        ],
        [
         "12",
         "a4ea732cd3d5948a_13",
         "a4ea732cd3d5948a",
         "[258.14, 234.5, 21.93, 25.65]",
         ".",
         "[258.14, 256.42, 266.07, 234.5, 280.07, 237.76, 274.7, 260.15]",
         "562.5"
        ],
        [
         "13",
         "a4ea732cd3d5948a_14",
         "a4ea732cd3d5948a",
         "[256.98, 271.58, 15.16, 22.86]",
         ".",
         "[258.84, 294.44, 256.98, 271.58, 269.34, 271.58, 272.14, 293.51]",
         "346.56"
        ],
        [
         "14",
         "a4ea732cd3d5948a_15",
         "a4ea732cd3d5948a",
         "[260.94, 303.07, 17.26, 22.16]",
         ".",
         "[267.94, 325.23, 260.94, 306.81, 271.67, 303.07, 278.2, 321.5]",
         "382.48"
        ],
        [
         "15",
         "a4ea732cd3d5948a_16",
         "a4ea732cd3d5948a",
         "[269.81, 326.17, 23.32, 24.72]",
         ".",
         "[281.23, 350.89, 269.81, 331.3, 281.93, 326.17, 293.13, 343.43]",
         "576.47"
        ],
        [
         "16",
         "a4ea732cd3d5948a_17",
         "a4ea732cd3d5948a",
         "[302.23, 363.72, 24.02, 21.69]",
         "100",
         "[310.16, 363.72, 326.25, 373.05, 321.36, 385.41, 302.23, 376.08]",
         "520.99"
        ],
        [
         "17",
         "a4ea732cd3d5948a_18",
         "a4ea732cd3d5948a",
         "[629.85, 566.42, 117.03, 48.09]",
         "GTOR®",
         "[631.27, 566.42, 746.88, 566.78, 746.17, 614.51, 629.85, 613.8]",
         "5627.97"
        ],
        [
         "18",
         "a4ea732cd3d5948a_19",
         "a4ea732cd3d5948a",
         "[215.57, 256.59, 33.88, 56.28]",
         "45",
         "[215.57, 312.87, 216.14, 257.16, 249.45, 256.59, 248.59, 312.59]",
         "1906.77"
        ],
        [
         "19",
         "a4ea732cd3d5948a_20",
         "a4ea732cd3d5948a",
         "[348.49, 234.72, 57.15, 18.66]",
         ".",
         "[349.66, 234.72, 404.24, 234.72, 405.64, 252.68, 348.49, 253.38]",
         "1066.42"
        ],
        [
         "20",
         "a4ea732cd3d5948a_21",
         "a4ea732cd3d5948a",
         "[362.25, 247.78, 28.93, 13.06]",
         ".",
         "[362.72, 248.01, 391.18, 247.78, 391.18, 260.14, 362.25, 260.84]",
         "377.83"
        ],
        [
         "21",
         "a4ea732cd3d5948a_22",
         "a4ea732cd3d5948a",
         "[337.99, 266.2, 14.23, 14.93]",
         "10",
         "[343.59, 266.2, 352.22, 275.54, 343.59, 281.13, 337.99, 271.34]",
         "212.45"
        ],
        [
         "22",
         "a4ea732cd3d5948a_23",
         "a4ea732cd3d5948a",
         "[338.23, 288.13, 14.22, 15.63]",
         "20",
         "[338.23, 296.3, 344.06, 288.13, 352.45, 292.56, 347.32, 303.76]",
         "222.26"
        ],
        [
         "23",
         "a4ea732cd3d5948a_24",
         "a4ea732cd3d5948a",
         "[320.27, 300.73, 12.12, 11.66]",
         "30",
         "[321.2, 301.19, 331.69, 300.73, 332.39, 312.39, 320.27, 312.39]",
         "141.32"
        ],
        [
         "24",
         "a4ea732cd3d5948a_25",
         "a4ea732cd3d5948a",
         "[299.97, 288.13, 14.93, 16.56]",
         "40",
         "[306.5, 288.13, 314.9, 295.6, 308.37, 304.69, 299.97, 297.46]",
         "247.24"
        ],
        [
         "25",
         "a4ea732cd3d5948a_26",
         "a4ea732cd3d5948a",
         "[298.11, 265.27, 14.92, 17.73]",
         "50",
         "[298.11, 275.77, 303.47, 265.27, 313.03, 271.8, 306.5, 283.0]",
         "264.53"
        ],
        [
         "26",
         "a4ea732cd3d5948a_27",
         "a4ea732cd3d5948a",
         "[317.93, 255.24, 11.67, 12.13]",
         ".",
         "[318.87, 255.48, 329.6, 255.24, 328.9, 266.67, 317.93, 267.37]",
         "141.56"
        ],
        [
         "27",
         "4bf43a7b2a898044_1",
         "4bf43a7b2a898044",
         "[429.44, 163.75, 27.52, 13.0]",
         "400",
         "[429.44, 163.75, 456.74, 163.75, 456.96, 176.54, 429.44, 176.75]",
         "357.76"
        ],
        [
         "28",
         "4bf43a7b2a898044_2",
         "4bf43a7b2a898044",
         "[2.52, 206.33, 14.29, 18.56]",
         "Z",
         "[2.69, 206.33, 16.81, 206.33, 16.81, 224.89, 2.52, 224.56]",
         "265.22"
        ],
        [
         "29",
         "4bf43a7b2a898044_3",
         "4bf43a7b2a898044",
         "[1.21, 229.65, 5.91, 11.33]",
         "7",
         "[1.21, 229.65, 7.12, 229.81, 7.12, 240.82, 1.21, 240.98]",
         "66.96"
        ],
        [
         "30",
         "4bf43a7b2a898044_4",
         "4bf43a7b2a898044",
         "[8.11, 232.44, 8.54, 8.7]",
         "at",
         "[8.11, 232.44, 16.65, 232.6, 16.48, 241.14, 8.27, 240.98]",
         "74.3"
        ],
        [
         "31",
         "4bf43a7b2a898044_5",
         "4bf43a7b2a898044",
         "[0.23, 246.23, 17.24, 12.81]",
         "nLa",
         "[0.23, 246.23, 17.47, 246.23, 17.47, 259.04, 0.23, 258.72]",
         "220.84"
        ],
        [
         "32",
         "4bf43a7b2a898044_6",
         "4bf43a7b2a898044",
         "[138.01, 192.86, 13.63, 11.33]",
         "A.",
         "[138.17, 193.03, 151.47, 192.86, 151.64, 204.19, 138.01, 204.03]",
         "154.43"
        ],
        [
         "33",
         "4bf43a7b2a898044_7",
         "4bf43a7b2a898044",
         "[153.61, 193.36, 38.43, 10.83]",
         "James",
         "[153.61, 193.52, 191.87, 193.36, 192.04, 204.19, 153.61, 204.19]",
         "416.2"
        ],
        [
         "34",
         "4bf43a7b2a898044_8",
         "4bf43a7b2a898044",
         "[115.51, 202.88, 98.7, 27.43]",
         "LYNCH",
         "[115.51, 203.21, 214.04, 202.88, 214.21, 230.31, 115.51, 230.31]",
         "2707.34"
        ],
        [
         "35",
         "4bf43a7b2a898044_9",
         "4bf43a7b2a898044",
         "[94.32, 231.13, 24.47, 10.18]",
         "REAL",
         "[94.32, 231.29, 118.79, 231.13, 118.79, 241.31, 94.32, 241.14]",
         "249.1"
        ],
        [
         "36",
         "4bf43a7b2a898044_10",
         "4bf43a7b2a898044",
         "[119.61, 231.29, 34.98, 10.18]",
         "ESTATE",
         "[119.61, 231.29, 154.59, 231.29, 154.59, 241.47, 119.61, 241.14]",
         "356.1"
        ],
        [
         "37",
         "4bf43a7b2a898044_11",
         "4bf43a7b2a898044",
         "[96.13, 240.32, 57.48, 11.17]",
         "781.599.1599",
         "[96.3, 240.65, 153.28, 240.32, 153.61, 251.0, 96.13, 251.49]",
         "642.05"
        ],
        [
         "38",
         "4bf43a7b2a898044_12",
         "4bf43a7b2a898044",
         "[181.53, 230.96, 54.68, 9.69]",
         "INSURANCE",
         "[181.53, 231.13, 235.88, 230.96, 236.21, 240.65, 181.53, 240.65]",
         "529.85"
        ],
        [
         "39",
         "4bf43a7b2a898044_13",
         "4bf43a7b2a898044",
         "[180.38, 240.65, 57.31, 10.02]",
         "781.598.4700",
         "[180.38, 240.65, 237.53, 240.65, 237.69, 250.5, 180.38, 250.67]",
         "574.25"
        ],
        [
         "40",
         "4bf43a7b2a898044_14",
         "4bf43a7b2a898044",
         "[123.88, 252.48, 82.44, 9.52]",
         ".",
         "[124.05, 252.64, 206.16, 252.48, 206.32, 261.84, 123.88, 262.0]",
         "784.83"
        ],
        [
         "41",
         "4bf43a7b2a898044_15",
         "4bf43a7b2a898044",
         "[306.66, 215.53, 13.14, 9.85]",
         ".",
         "[306.66, 215.69, 319.8, 215.53, 319.64, 225.38, 306.66, 225.21]",
         "129.43"
        ],
        [
         "42",
         "4bf43a7b2a898044_16",
         "4bf43a7b2a898044",
         "[321.12, 217.66, 13.46, 10.18]",
         ".",
         "[321.12, 217.66, 334.42, 217.66, 334.58, 227.84, 321.12, 227.84]",
         "137.02"
        ],
        [
         "43",
         "4bf43a7b2a898044_17",
         "4bf43a7b2a898044",
         "[508.81, 382.92, 19.62, 6.98]",
         ".",
         "[508.81, 383.3, 528.43, 382.92, 528.43, 389.9, 508.81, 389.9]",
         "136.95"
        ],
        [
         "44",
         "4bf43a7b2a898044_18",
         "4bf43a7b2a898044",
         "[439.01, 412.72, 71.5, 46.03]",
         "12",
         "[439.01, 412.91, 510.32, 412.72, 510.51, 458.75, 439.01, 458.75]",
         "3291.14"
        ],
        [
         "45",
         "4bf43a7b2a898044_19",
         "4bf43a7b2a898044",
         "[571.09, 216.87, 9.19, 9.86]",
         ".",
         "[574.21, 216.87, 580.28, 220.16, 577.49, 226.73, 571.09, 223.77]",
         "90.61"
        ],
        [
         "46",
         "4bf43a7b2a898044_20",
         "4bf43a7b2a898044",
         "[656.64, 282.71, 32.03, 32.88]",
         ".",
         "[656.64, 294.72, 679.8, 282.71, 688.67, 302.72, 664.65, 315.59]",
         "1053.15"
        ],
        [
         "47",
         "4bf43a7b2a898044_21",
         "4bf43a7b2a898044",
         "[676.66, 292.43, 40.31, 41.17]",
         "23",
         "[676.66, 309.3, 700.1, 292.43, 716.97, 317.02, 692.1, 333.6]",
         "1659.56"
        ],
        [
         "48",
         "4bf43a7b2a898044_22",
         "4bf43a7b2a898044",
         "[672.66, 197.52, 23.62, 19.94]",
         "n's",
         "[672.66, 197.52, 696.28, 197.74, 696.28, 217.46, 672.66, 217.24]",
         "470.98"
        ],
        [
         "49",
         "4bf43a7b2a898044_23",
         "4bf43a7b2a898044",
         "[696.93, 197.95, 47.67, 19.51]",
         "Roast",
         "[697.15, 197.95, 744.6, 197.95, 744.6, 217.24, 696.93, 217.46]",
         "930.04"
        ]
       ],
       "shape": {
        "columns": 6,
        "rows": 1052354
       }
      },
      "text/html": [
       "<div>\n",
       "<style scoped>\n",
       "    .dataframe tbody tr th:only-of-type {\n",
       "        vertical-align: middle;\n",
       "    }\n",
       "\n",
       "    .dataframe tbody tr th {\n",
       "        vertical-align: top;\n",
       "    }\n",
       "\n",
       "    .dataframe thead th {\n",
       "        text-align: right;\n",
       "    }\n",
       "</style>\n",
       "<table border=\"1\" class=\"dataframe\">\n",
       "  <thead>\n",
       "    <tr style=\"text-align: right;\">\n",
       "      <th></th>\n",
       "      <th>id</th>\n",
       "      <th>image_id</th>\n",
       "      <th>bbox</th>\n",
       "      <th>utf8_string</th>\n",
       "      <th>points</th>\n",
       "      <th>area</th>\n",
       "    </tr>\n",
       "  </thead>\n",
       "  <tbody>\n",
       "    <tr>\n",
       "      <th>0</th>\n",
       "      <td>a4ea732cd3d5948a_1</td>\n",
       "      <td>a4ea732cd3d5948a</td>\n",
       "      <td>[525.83, 3.4, 197.64, 33.94]</td>\n",
       "      <td>Performance</td>\n",
       "      <td>[525.83, 3.4, 723.47, 7.29, 722.76, 36.99, 525...</td>\n",
       "      <td>6707.90</td>\n",
       "    </tr>\n",
       "    <tr>\n",
       "      <th>1</th>\n",
       "      <td>a4ea732cd3d5948a_2</td>\n",
       "      <td>a4ea732cd3d5948a</td>\n",
       "      <td>[534.67, 64.68, 91.22, 38.19]</td>\n",
       "      <td>Sport</td>\n",
       "      <td>[535.73, 64.68, 623.41, 67.51, 625.89, 102.87,...</td>\n",
       "      <td>3483.69</td>\n",
       "    </tr>\n",
       "    <tr>\n",
       "      <th>2</th>\n",
       "      <td>a4ea732cd3d5948a_3</td>\n",
       "      <td>a4ea732cd3d5948a</td>\n",
       "      <td>[626.95, 63.62, 96.52, 31.82]</td>\n",
       "      <td>Watch</td>\n",
       "      <td>[626.95, 63.62, 721.7, 63.62, 723.47, 95.44, 6...</td>\n",
       "      <td>3071.27</td>\n",
       "    </tr>\n",
       "    <tr>\n",
       "      <th>3</th>\n",
       "      <td>a4ea732cd3d5948a_4</td>\n",
       "      <td>a4ea732cd3d5948a</td>\n",
       "      <td>[577.4, 141.87, 147.13, 43.1]</td>\n",
       "      <td>...period.</td>\n",
       "      <td>[580.02, 143.61, 724.53, 141.87, 723.66, 184.9...</td>\n",
       "      <td>6341.30</td>\n",
       "    </tr>\n",
       "    <tr>\n",
       "      <th>4</th>\n",
       "      <td>a4ea732cd3d5948a_5</td>\n",
       "      <td>a4ea732cd3d5948a</td>\n",
       "      <td>[391.03, 163.9, 60.82, 38.65]</td>\n",
       "      <td>.</td>\n",
       "      <td>[395.2, 163.9, 451.85, 191.94, 445.59, 202.55,...</td>\n",
       "      <td>2350.69</td>\n",
       "    </tr>\n",
       "    <tr>\n",
       "      <th>...</th>\n",
       "      <td>...</td>\n",
       "      <td>...</td>\n",
       "      <td>...</td>\n",
       "      <td>...</td>\n",
       "      <td>...</td>\n",
       "      <td>...</td>\n",
       "    </tr>\n",
       "    <tr>\n",
       "      <th>1052349</th>\n",
       "      <td>0ebbecdc46b78d42_15</td>\n",
       "      <td>0ebbecdc46b78d42</td>\n",
       "      <td>[267.47, -0.14, 28.18, 27.47]</td>\n",
       "      <td>.</td>\n",
       "      <td>[295.65, -0.14, 295.65, 27.33, 267.47, 27.03, ...</td>\n",
       "      <td>774.10</td>\n",
       "    </tr>\n",
       "    <tr>\n",
       "      <th>1052350</th>\n",
       "      <td>a37e1fb026b80a6d_1</td>\n",
       "      <td>a37e1fb026b80a6d</td>\n",
       "      <td>[331.69, 462.84, 417.31, 201.08]</td>\n",
       "      <td>RÖR</td>\n",
       "      <td>[331.69, 466.97, 749.0, 462.84, 749.0, 659.79,...</td>\n",
       "      <td>83912.69</td>\n",
       "    </tr>\n",
       "    <tr>\n",
       "      <th>1052351</th>\n",
       "      <td>a37e1fb026b80a6d_2</td>\n",
       "      <td>a37e1fb026b80a6d</td>\n",
       "      <td>[876.75, 285.63, 36.98, 10.28]</td>\n",
       "      <td>Moderna</td>\n",
       "      <td>[876.75, 287.61, 912.34, 285.63, 913.73, 293.9...</td>\n",
       "      <td>380.15</td>\n",
       "    </tr>\n",
       "    <tr>\n",
       "      <th>1052352</th>\n",
       "      <td>a37e1fb026b80a6d_3</td>\n",
       "      <td>a37e1fb026b80a6d</td>\n",
       "      <td>[913.53, 282.86, 32.23, 11.27]</td>\n",
       "      <td>Museet</td>\n",
       "      <td>[913.53, 284.84, 944.77, 282.86, 945.76, 292.3...</td>\n",
       "      <td>363.23</td>\n",
       "    </tr>\n",
       "    <tr>\n",
       "      <th>1052353</th>\n",
       "      <td>a37e1fb026b80a6d_4</td>\n",
       "      <td>a37e1fb026b80a6d</td>\n",
       "      <td>[883.47, 302.44, 68.42, 10.88]</td>\n",
       "      <td>.</td>\n",
       "      <td>[883.47, 304.02, 950.71, 302.44, 951.89, 311.5...</td>\n",
       "      <td>744.41</td>\n",
       "    </tr>\n",
       "  </tbody>\n",
       "</table>\n",
       "<p>1052354 rows × 6 columns</p>\n",
       "</div>"
      ],
      "text/plain": [
       "                          id          image_id  \\\n",
       "0         a4ea732cd3d5948a_1  a4ea732cd3d5948a   \n",
       "1         a4ea732cd3d5948a_2  a4ea732cd3d5948a   \n",
       "2         a4ea732cd3d5948a_3  a4ea732cd3d5948a   \n",
       "3         a4ea732cd3d5948a_4  a4ea732cd3d5948a   \n",
       "4         a4ea732cd3d5948a_5  a4ea732cd3d5948a   \n",
       "...                      ...               ...   \n",
       "1052349  0ebbecdc46b78d42_15  0ebbecdc46b78d42   \n",
       "1052350   a37e1fb026b80a6d_1  a37e1fb026b80a6d   \n",
       "1052351   a37e1fb026b80a6d_2  a37e1fb026b80a6d   \n",
       "1052352   a37e1fb026b80a6d_3  a37e1fb026b80a6d   \n",
       "1052353   a37e1fb026b80a6d_4  a37e1fb026b80a6d   \n",
       "\n",
       "                                     bbox  utf8_string  \\\n",
       "0            [525.83, 3.4, 197.64, 33.94]  Performance   \n",
       "1           [534.67, 64.68, 91.22, 38.19]        Sport   \n",
       "2           [626.95, 63.62, 96.52, 31.82]        Watch   \n",
       "3           [577.4, 141.87, 147.13, 43.1]   ...period.   \n",
       "4           [391.03, 163.9, 60.82, 38.65]            .   \n",
       "...                                   ...          ...   \n",
       "1052349     [267.47, -0.14, 28.18, 27.47]            .   \n",
       "1052350  [331.69, 462.84, 417.31, 201.08]          RÖR   \n",
       "1052351    [876.75, 285.63, 36.98, 10.28]      Moderna   \n",
       "1052352    [913.53, 282.86, 32.23, 11.27]       Museet   \n",
       "1052353    [883.47, 302.44, 68.42, 10.88]            .   \n",
       "\n",
       "                                                    points      area  \n",
       "0        [525.83, 3.4, 723.47, 7.29, 722.76, 36.99, 525...   6707.90  \n",
       "1        [535.73, 64.68, 623.41, 67.51, 625.89, 102.87,...   3483.69  \n",
       "2        [626.95, 63.62, 721.7, 63.62, 723.47, 95.44, 6...   3071.27  \n",
       "3        [580.02, 143.61, 724.53, 141.87, 723.66, 184.9...   6341.30  \n",
       "4        [395.2, 163.9, 451.85, 191.94, 445.59, 202.55,...   2350.69  \n",
       "...                                                    ...       ...  \n",
       "1052349  [295.65, -0.14, 295.65, 27.33, 267.47, 27.03, ...    774.10  \n",
       "1052350  [331.69, 466.97, 749.0, 462.84, 749.0, 659.79,...  83912.69  \n",
       "1052351  [876.75, 287.61, 912.34, 285.63, 913.73, 293.9...    380.15  \n",
       "1052352  [913.53, 284.84, 944.77, 282.86, 945.76, 292.3...    363.23  \n",
       "1052353  [883.47, 304.02, 950.71, 302.44, 951.89, 311.5...    744.41  \n",
       "\n",
       "[1052354 rows x 6 columns]"
      ]
     },
     "execution_count": 7,
     "metadata": {},
     "output_type": "execute_result"
    }
   ],
   "source": [
    "annotations_df"
   ]
  },
  {
   "cell_type": "markdown",
   "id": "25a3a887",
   "metadata": {},
   "source": [
    "## Number of images check"
   ]
  },
  {
   "cell_type": "code",
   "execution_count": 8,
   "id": "ab787bd7",
   "metadata": {},
   "outputs": [],
   "source": [
    "images_set = set(img_info_df['id'])\n",
    "images_with_annotations = set(annotations_df['image_id'])"
   ]
  },
  {
   "cell_type": "code",
   "execution_count": 9,
   "id": "ff16e71a",
   "metadata": {},
   "outputs": [
    {
     "name": "stdout",
     "output_type": "stream",
     "text": [
      "Number of images in the dataset: 25119\n",
      "Number of images in the dataset (From img.csv): 21778\n",
      "Number of images with annotations (From annot.csv): 21778\n"
     ]
    }
   ],
   "source": [
    "print(f\"Number of images in the dataset: {len(images)}\")\n",
    "print(f\"Number of images in the dataset (From img.csv): {len(images_set)}\")\n",
    "print(f\"Number of images with annotations (From annot.csv): {len(images_with_annotations)}\")"
   ]
  },
  {
   "cell_type": "code",
   "execution_count": 10,
   "id": "0d730c65",
   "metadata": {},
   "outputs": [
    {
     "name": "stderr",
     "output_type": "stream",
     "text": [
      "100%|██████████| 25119/25119 [00:00<00:00, 1144907.98it/s]"
     ]
    },
    {
     "name": "stdout",
     "output_type": "stream",
     "text": [
      "Number of images not in img.csv: 3341\n"
     ]
    },
    {
     "name": "stderr",
     "output_type": "stream",
     "text": [
      "\n"
     ]
    }
   ],
   "source": [
    "missing_images_cnt = 0\n",
    "\n",
    "for image in tqdm(images):\n",
    "    image_id = image.split('.')[0]\n",
    "    \n",
    "    if image_id not in images_set:\n",
    "        missing_images_cnt += 1\n",
    "        \n",
    "print(f\"Number of images not in img.csv: {missing_images_cnt}\")"
   ]
  },
  {
   "cell_type": "code",
   "execution_count": 11,
   "id": "7f9606c8",
   "metadata": {},
   "outputs": [
    {
     "data": {
      "text/plain": [
       "True"
      ]
     },
     "execution_count": 11,
     "metadata": {},
     "output_type": "execute_result"
    }
   ],
   "source": [
    "images_set == images_with_annotations"
   ]
  },
  {
   "cell_type": "markdown",
   "id": "20398e12",
   "metadata": {},
   "source": [
    "### Conclusion:\n",
    "Use images only in img.csv"
   ]
  },
  {
   "cell_type": "markdown",
   "id": "1f00533f",
   "metadata": {},
   "source": [
    "## Check if all images in img.csv are present in the images directory"
   ]
  },
  {
   "cell_type": "code",
   "execution_count": 12,
   "id": "4c4ddb4f",
   "metadata": {},
   "outputs": [],
   "source": [
    "images_id = images = [img.split('.')[0] for img in images]\n",
    "images_id = set(images_id)"
   ]
  },
  {
   "cell_type": "code",
   "execution_count": 13,
   "id": "2c0b7ed8",
   "metadata": {},
   "outputs": [
    {
     "data": {
      "text/plain": [
       "['14d68006b52caafb',\n",
       " '8924f92be9064c4c',\n",
       " '7a5a1251c70b93a0',\n",
       " '01ab6b284642d087',\n",
       " '752df9bf6937c60c']"
      ]
     },
     "execution_count": 13,
     "metadata": {},
     "output_type": "execute_result"
    }
   ],
   "source": [
    "list(images_id)[:5]"
   ]
  },
  {
   "cell_type": "code",
   "execution_count": 14,
   "id": "fa31cf4c",
   "metadata": {},
   "outputs": [
    {
     "name": "stderr",
     "output_type": "stream",
     "text": [
      "100%|██████████| 21778/21778 [00:00<00:00, 1679819.64it/s]\n"
     ]
    }
   ],
   "source": [
    "for img in tqdm(images_set):\n",
    "    assert img in images_id, f\"Image {img} not found in the dataset. Please check the image files.\""
   ]
  }
 ],
 "metadata": {
  "kernelspec": {
   "display_name": "base",
   "language": "python",
   "name": "python3"
  },
  "language_info": {
   "codemirror_mode": {
    "name": "ipython",
    "version": 3
   },
   "file_extension": ".py",
   "mimetype": "text/x-python",
   "name": "python",
   "nbconvert_exporter": "python",
   "pygments_lexer": "ipython3",
   "version": "3.10.9"
  }
 },
 "nbformat": 4,
 "nbformat_minor": 5
}
